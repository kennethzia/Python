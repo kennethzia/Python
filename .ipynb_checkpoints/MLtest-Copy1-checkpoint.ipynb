{
 "cells": [
  {
   "cell_type": "code",
   "execution_count": 1,
   "metadata": {},
   "outputs": [],
   "source": [
    "import os\n",
    "import numpy as np\n",
    "import pandas as pd\n",
    "import matplotlib.pyplot as plt\n",
    "import matplotlib.image as mpimg\n",
    "import seaborn as sns\n",
    "import cv2\n",
    "from sklearn.model_selection import train_test_split\n",
    "from sklearn.metrics import accuracy_score\n",
    "import lightgbm as lgb\n",
    "from sklearn import metrics\n",
    "import glob"
   ]
  },
  {
   "cell_type": "code",
   "execution_count": 2,
   "metadata": {},
   "outputs": [],
   "source": [
    "path = r'D:\\OATH\\oath_v1.1'"
   ]
  },
  {
   "cell_type": "code",
   "execution_count": 3,
   "metadata": {},
   "outputs": [],
   "source": [
    "df = pd.read_csv(path + '\\classifications\\classifications.csv')"
   ]
  },
  {
   "cell_type": "code",
   "execution_count": 4,
   "metadata": {},
   "outputs": [
    {
     "data": {
      "text/html": [
       "<div>\n",
       "<style scoped>\n",
       "    .dataframe tbody tr th:only-of-type {\n",
       "        vertical-align: middle;\n",
       "    }\n",
       "\n",
       "    .dataframe tbody tr th {\n",
       "        vertical-align: top;\n",
       "    }\n",
       "\n",
       "    .dataframe thead th {\n",
       "        text-align: right;\n",
       "    }\n",
       "</style>\n",
       "<table border=\"1\" class=\"dataframe\">\n",
       "  <thead>\n",
       "    <tr style=\"text-align: right;\">\n",
       "      <th></th>\n",
       "      <th>class2</th>\n",
       "      <th>class6</th>\n",
       "      <th>picNum</th>\n",
       "      <th>picType</th>\n",
       "      <th>rotAng</th>\n",
       "    </tr>\n",
       "  </thead>\n",
       "  <tbody>\n",
       "    <tr>\n",
       "      <th>0</th>\n",
       "      <td>0</td>\n",
       "      <td>2</td>\n",
       "      <td>1</td>\n",
       "      <td>discrete</td>\n",
       "      <td>334</td>\n",
       "    </tr>\n",
       "    <tr>\n",
       "      <th>1</th>\n",
       "      <td>0</td>\n",
       "      <td>2</td>\n",
       "      <td>2</td>\n",
       "      <td>discrete</td>\n",
       "      <td>29</td>\n",
       "    </tr>\n",
       "    <tr>\n",
       "      <th>2</th>\n",
       "      <td>0</td>\n",
       "      <td>2</td>\n",
       "      <td>3</td>\n",
       "      <td>discrete</td>\n",
       "      <td>355</td>\n",
       "    </tr>\n",
       "    <tr>\n",
       "      <th>3</th>\n",
       "      <td>0</td>\n",
       "      <td>0</td>\n",
       "      <td>4</td>\n",
       "      <td>arc</td>\n",
       "      <td>118</td>\n",
       "    </tr>\n",
       "    <tr>\n",
       "      <th>4</th>\n",
       "      <td>0</td>\n",
       "      <td>0</td>\n",
       "      <td>5</td>\n",
       "      <td>arc</td>\n",
       "      <td>55</td>\n",
       "    </tr>\n",
       "  </tbody>\n",
       "</table>\n",
       "</div>"
      ],
      "text/plain": [
       "   class2  class6  picNum   picType  rotAng\n",
       "0       0       2       1  discrete     334\n",
       "1       0       2       2  discrete      29\n",
       "2       0       2       3  discrete     355\n",
       "3       0       0       4       arc     118\n",
       "4       0       0       5       arc      55"
      ]
     },
     "execution_count": 4,
     "metadata": {},
     "output_type": "execute_result"
    }
   ],
   "source": [
    "df.head()"
   ]
  },
  {
   "cell_type": "code",
   "execution_count": 5,
   "metadata": {},
   "outputs": [],
   "source": [
    "train,test = train_test_split(df, test_size=0.30, random_state=0)\n",
    "#save the data\n",
    "df_train = pd.DataFrame(train)\n",
    "df_test = pd.DataFrame(test)\n",
    "\n",
    "df_train.to_csv(path + r'\\classifications' + r'\\train.csv', index=False)\n",
    "df_test.to_csv(path + r'\\classifications' + r'\\test.csv', index=False)"
   ]
  },
  {
   "cell_type": "code",
   "execution_count": 7,
   "metadata": {},
   "outputs": [
    {
     "data": {
      "text/plain": [
       "2    1400\n",
       "1    1102\n",
       "5    1082\n",
       "3     852\n",
       "0     774\n",
       "4     614\n",
       "Name: class6, dtype: int64"
      ]
     },
     "execution_count": 7,
     "metadata": {},
     "output_type": "execute_result"
    }
   ],
   "source": [
    "df['class6'].value_counts()"
   ]
  },
  {
   "cell_type": "code",
   "execution_count": 8,
   "metadata": {},
   "outputs": [],
   "source": [
    "imgnum=df_train['picNum'].to_numpy()\n",
    "imgfiles=r'D:\\OATH\\oath_v1.1\\images\\cropped_scaled'\n",
    "rotate=df_train['rotAng'].to_numpy()\n",
    "y_train=df_train['class6'].to_numpy()"
   ]
  },
  {
   "cell_type": "code",
   "execution_count": 9,
   "metadata": {},
   "outputs": [
    {
     "data": {
      "text/plain": [
       "65536"
      ]
     },
     "execution_count": 9,
     "metadata": {},
     "output_type": "execute_result"
    }
   ],
   "source": [
    "filesq=glob.glob(imgfiles+r'\\*****.png')\n",
    "testFrame=cv2.imread(filesq[0],2)\n",
    "testFrame=testFrame/np.max(testFrame)\n",
    "a=testFrame.reshape(-1)\n",
    "np.size(a)"
   ]
  },
  {
   "cell_type": "code",
   "execution_count": 10,
   "metadata": {},
   "outputs": [],
   "source": [
    "X_train = np.zeros((np.size(imgnum),np.size(a)))\n",
    "for k in range(np.size(imgnum)):\n",
    "    b=int(imgnum[k])-1\n",
    "    readFrame=cv2.imread(filesq[b],2)\n",
    "    if (rotate[k] <= 90):\n",
    "        readFrame=readFrame\n",
    "    if (rotate[k] > 90 and rotate[k] < 180):\n",
    "        readFrame=cv2.rotate(readFrame, cv2.ROTATE_90_COUNTERCLOCKWISE)\n",
    "    if (rotate[k] > 180 and rotate[k] < 270):\n",
    "        readFrame=cv2.rotate(readFrame, cv2.ROTATE_180)\n",
    "    else:\n",
    "        readFrame=cv2.rotate(readFrame, cv2.cv2.ROTATE_90_CLOCKWISE)\n",
    "    \n",
    "    X_train[k,:]=readFrame.reshape(-1)/np.max(readFrame)\n",
    "    \n",
    "    "
   ]
  },
  {
   "cell_type": "code",
   "execution_count": 11,
   "metadata": {},
   "outputs": [
    {
     "data": {
      "text/plain": [
       "LGBMClassifier()"
      ]
     },
     "execution_count": 11,
     "metadata": {},
     "output_type": "execute_result"
    }
   ],
   "source": [
    "clf = lgb.LGBMClassifier()\n",
    "clf.fit(X_train, y_train)"
   ]
  },
  {
   "cell_type": "code",
   "execution_count": 13,
   "metadata": {},
   "outputs": [],
   "source": [
    "imgnum=df_test['picNum'].to_numpy()\n",
    "imgfiles=r'D:\\OATH\\oath_v1.1\\images\\cropped_scaled'\n",
    "rotate=df_test['rotAng'].to_numpy()\n",
    "y_test=df_test['class6'].to_numpy()\n",
    "filesq=glob.glob(imgfiles+r'\\*****.png')\n",
    "testFrame=cv2.imread(filesq[0],2)\n",
    "testFrame=testFrame/np.max(testFrame)\n",
    "a=testFrame.reshape(-1)\n",
    "np.size(a)\n",
    "X_test = np.zeros((np.size(imgnum),np.size(a)))\n",
    "for k in range(np.size(imgnum)):\n",
    "    b=int(imgnum[k])-1\n",
    "    readFrame=cv2.imread(filesq[b],2)\n",
    "    if (rotate[k] <= 90):\n",
    "        readFrame=readFrame\n",
    "    if (rotate[k] > 90 and rotate[k] < 180):\n",
    "        readFrame=cv2.rotate(readFrame, cv2.ROTATE_90_COUNTERCLOCKWISE)\n",
    "    if (rotate[k] > 180 and rotate[k] < 270):\n",
    "        readFrame=cv2.rotate(readFrame, cv2.ROTATE_180)\n",
    "    else:\n",
    "        readFrame=cv2.rotate(readFrame, cv2.cv2.ROTATE_90_CLOCKWISE)\n",
    "    \n",
    "    X_test[k,:]=readFrame.reshape(-1)/np.max(readFrame)"
   ]
  },
  {
   "cell_type": "code",
   "execution_count": 14,
   "metadata": {},
   "outputs": [],
   "source": [
    "y_pred=clf.predict(X_test)"
   ]
  },
  {
   "cell_type": "code",
   "execution_count": 15,
   "metadata": {},
   "outputs": [
    {
     "name": "stdout",
     "output_type": "stream",
     "text": [
      "LightGBM Model accuracy score: 0.8249\n"
     ]
    }
   ],
   "source": [
    "accuracy=accuracy_score(y_pred, y_test)\n",
    "print('LightGBM Model accuracy score: {0:0.4f}'.format(accuracy_score(y_test, y_pred)))"
   ]
  },
  {
   "cell_type": "code",
   "execution_count": 16,
   "metadata": {},
   "outputs": [
    {
     "name": "stdout",
     "output_type": "stream",
     "text": [
      "Training-set accuracy score: 1.0000\n"
     ]
    }
   ],
   "source": [
    "y_pred_train = clf.predict(X_train)\n",
    "print('Training-set accuracy score: {0:0.4f}'. format(accuracy_score(y_train, y_pred_train)))"
   ]
  },
  {
   "cell_type": "code",
   "execution_count": 17,
   "metadata": {},
   "outputs": [
    {
     "name": "stdout",
     "output_type": "stream",
     "text": [
      "Training set score: 1.0000\n",
      "Test set score: 0.8249\n"
     ]
    }
   ],
   "source": [
    "print('Training set score: {:.4f}'.format(clf.score(X_train, y_train)))\n",
    "\n",
    "print('Test set score: {:.4f}'.format(clf.score(X_test, y_test)))"
   ]
  },
  {
   "cell_type": "code",
   "execution_count": 18,
   "metadata": {},
   "outputs": [
    {
     "name": "stdout",
     "output_type": "stream",
     "text": [
      "Confusion matrix\n",
      "\n",
      " [[132  13  57   1   5  15]\n",
      " [ 11 250  31   0   0  27]\n",
      " [ 18  29 358   1   4  18]\n",
      " [  1  15  13 234   6   6]\n",
      " [  0   1   8   1 175   2]\n",
      " [  6  10   4   0   3 293]]\n",
      "\n",
      "True Positives(TP) =  132\n",
      "\n",
      "True Negatives(TN) =  250\n",
      "\n",
      "False Positives(FP) =  13\n",
      "\n",
      "False Negatives(FN) =  11\n"
     ]
    }
   ],
   "source": [
    "from sklearn.metrics import confusion_matrix\n",
    "cm = confusion_matrix(y_test, y_pred)\n",
    "print('Confusion matrix\\n\\n', cm)\n",
    "print('\\nTrue Positives(TP) = ', cm[0,0])\n",
    "print('\\nTrue Negatives(TN) = ', cm[1,1])\n",
    "print('\\nFalse Positives(FP) = ', cm[0,1])\n",
    "print('\\nFalse Negatives(FN) = ', cm[1,0])"
   ]
  },
  {
   "cell_type": "code",
   "execution_count": 20,
   "metadata": {},
   "outputs": [
    {
     "data": {
      "text/plain": [
       "<AxesSubplot:>"
      ]
     },
     "execution_count": 20,
     "metadata": {},
     "output_type": "execute_result"
    },
    {
     "data": {
      "image/png": "[encoded data removed]",
      "text/plain": [
       "<Figure size 432x288 with 2 Axes>"
      ]
     },
     "metadata": {
      "needs_background": "light"
     },
     "output_type": "display_data"
    }
   ],
   "source": [
    "cm_matrix = pd.DataFrame(data=cm)\n",
    "\n",
    "sns.heatmap(cm_matrix, annot=True, fmt='d', cmap='YlGnBu')"
   ]
  },
  {
   "cell_type": "code",
   "execution_count": 21,
   "metadata": {},
   "outputs": [
    {
     "name": "stdout",
     "output_type": "stream",
     "text": [
      "              precision    recall  f1-score   support\n",
      "\n",
      "           0       0.79      0.59      0.68       223\n",
      "           1       0.79      0.78      0.78       319\n",
      "           2       0.76      0.84      0.80       428\n",
      "           3       0.99      0.85      0.91       275\n",
      "           4       0.91      0.94      0.92       187\n",
      "           5       0.81      0.93      0.87       316\n",
      "\n",
      "    accuracy                           0.82      1748\n",
      "   macro avg       0.84      0.82      0.83      1748\n",
      "weighted avg       0.83      0.82      0.82      1748\n",
      "\n"
     ]
    }
   ],
   "source": [
    "from sklearn.metrics import classification_report\n",
    "print(classification_report(y_test, y_pred))"
   ]
  },
  {
   "cell_type": "code",
   "execution_count": null,
   "metadata": {},
   "outputs": [],
   "source": []
  }
 ],
 "metadata": {
  "kernelspec": {
   "display_name": "Python 3 (ipykernel)",
   "language": "python",
   "name": "python3"
  },
  "language_info": {
   "codemirror_mode": {
    "name": "ipython",
    "version": 3
   },
   "file_extension": ".py",
   "mimetype": "text/x-python",
   "name": "python",
   "nbconvert_exporter": "python",
   "pygments_lexer": "ipython3",
   "version": "3.9.7"
  }
 },
 "nbformat": 4,
 "nbformat_minor": 4
}
