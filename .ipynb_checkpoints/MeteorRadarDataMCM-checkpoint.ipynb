{
 "cells": [
  {
   "cell_type": "code",
   "execution_count": null,
   "id": "c728d900-1d52-44c3-acc6-dae3d2131dff",
   "metadata": {},
   "outputs": [],
   "source": [
    "import matplotlib.pyplot as plt\n",
    "import numpy as np\n",
    "import pandas as pd\n",
    "import os\n",
    "plt.rcParams.update({'font.size': 15})"
   ]
  },
  {
   "cell_type": "markdown",
   "id": "828c3292-cf62-45c8-bb1c-9c1e2250f3e5",
   "metadata": {},
   "source": [
    "Defining csv files from MCM Meteor Radars."
   ]
  },
  {
   "cell_type": "code",
   "execution_count": 3,
   "id": "fef8eac6-4105-4381-b493-33a610ed75a3",
   "metadata": {},
   "outputs": [],
   "source": [
    "files=r'C:\\Users\\kenne\\Desktop\\MCMMeteorRadar\\wind_timeseries_mcmurdo_20180907_20180916.csv'"
   ]
  },
  {
   "cell_type": "code",
   "execution_count": 4,
   "id": "fab31e23-f885-48f2-805b-0222edb40d17",
   "metadata": {},
   "outputs": [],
   "source": [
    "data=pd.read_csv(files)"
   ]
  },
  {
   "cell_type": "code",
   "execution_count": 11,
   "id": "b38d1833-318f-4cd9-bae7-14187963ba12",
   "metadata": {},
   "outputs": [
    {
     "data": {
      "text/plain": [
       "<bound method DataFrame.info of              datetime_idx    Ht   pts  zonal  merid\n",
       "0     2018-09-07 00:00:00  82.0  42.0    4.0  -33.0\n",
       "1     2018-09-07 01:00:00  82.0  51.0   17.0  -37.0\n",
       "2     2018-09-07 02:00:00  82.0  46.0   24.0  -32.0\n",
       "3     2018-09-07 03:00:00  82.0  30.0   25.0  -14.0\n",
       "4     2018-09-07 04:00:00  82.0  25.0   45.0  -15.0\n",
       "...                   ...   ...   ...    ...    ...\n",
       "1421  2018-09-16 19:00:00  98.0  21.0  -48.0  -35.0\n",
       "1422  2018-09-16 20:00:00  98.0  25.0   -7.0    4.0\n",
       "1423  2018-09-16 21:00:00  98.0  15.0   29.0   15.0\n",
       "1424  2018-09-16 22:00:00  98.0   8.0   52.0  -24.0\n",
       "1425  2018-09-16 23:00:00  98.0   8.0   37.0   -2.0\n",
       "\n",
       "[1426 rows x 5 columns]>"
      ]
     },
     "execution_count": 11,
     "metadata": {},
     "output_type": "execute_result"
    }
   ],
   "source": [
    "data.info"
   ]
  },
  {
   "cell_type": "code",
   "execution_count": 27,
   "id": "5517fa58-768b-49eb-bb34-9c498aa7a7f1",
   "metadata": {},
   "outputs": [
    {
     "name": "stdout",
     "output_type": "stream",
     "text": [
      "62\n"
     ]
    }
   ],
   "source": [
    "z=0\n",
    "p=0\n",
    "q=0\n",
    "y=np.zeros(6)\n",
    "h=data.Ht[0]\n",
    "y[0]=h\n",
    "\n",
    "for i in range(np.size(data.Ht[:])):\n",
    "    h1=data.Ht[i]\n",
    "    if p==23:\n",
    "        q=q+1\n",
    "        p=0\n",
    "    if h-h1==0:\n",
    "        h=h1\n",
    "    else:\n",
    "        p=p+1\n",
    "        z=z+1\n",
    "        h=h1\n",
    "        y[z]=h\n",
    "print(q)"
   ]
  },
  {
   "cell_type": "code",
   "execution_count": 23,
   "id": "9c5f596a-e654-4adb-b47e-b4096d36ac9c",
   "metadata": {},
   "outputs": [],
   "source": [
    "z=0\n",
    "p=0\n",
    "y=np.zeros(6)\n",
    "h=data.Ht[0]\n",
    "y[0]=h\n",
    "\n",
    "for i in range(np.size(data.Ht[:])):\n",
    "\n",
    "    h1=data.Ht[i]\n",
    "    if h-h1==0:\n",
    "        h=h1\n",
    "    else:\n",
    "        z=z+1\n",
    "        h=h1\n",
    "        y[z]=h"
   ]
  },
  {
   "cell_type": "code",
   "execution_count": 24,
   "id": "f2ec2df2-b64d-4dfa-bbc6-5c310c27c1ae",
   "metadata": {},
   "outputs": [
    {
     "data": {
      "text/plain": [
       "array([82., 85., 88., 91., 94., 98.])"
      ]
     },
     "execution_count": 24,
     "metadata": {},
     "output_type": "execute_result"
    }
   ],
   "source": []
  },
  {
   "cell_type": "code",
   "execution_count": null,
   "id": "1c71e93b-b935-45cb-ba78-b7e5451a4107",
   "metadata": {},
   "outputs": [],
   "source": []
  }
 ],
 "metadata": {
  "kernelspec": {
   "display_name": "Python 3 (ipykernel)",
   "language": "python",
   "name": "python3"
  },
  "language_info": {
   "codemirror_mode": {
    "name": "ipython",
    "version": 3
   },
   "file_extension": ".py",
   "mimetype": "text/x-python",
   "name": "python",
   "nbconvert_exporter": "python",
   "pygments_lexer": "ipython3",
   "version": "3.8.8"
  }
 },
 "nbformat": 4,
 "nbformat_minor": 5
}
