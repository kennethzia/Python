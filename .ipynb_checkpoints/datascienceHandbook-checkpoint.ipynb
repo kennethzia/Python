{
 "cells": [
  {
   "cell_type": "markdown",
   "id": "32baed6b",
   "metadata": {
    "tags": []
   },
   "source": [
    "#Python Data Analysis "
   ]
  },
  {
   "cell_type": "markdown",
   "id": "34213708-3312-472d-9e8f-1dbcc52e650c",
   "metadata": {
    "tags": []
   },
   "source": [
    "## Introduction"
   ]
  },
  {
   "cell_type": "raw",
   "id": "36a52205-a2c0-42cd-924a-967754cbb1a3",
   "metadata": {
    "tags": []
   },
   "source": [
    "Data is ubiquitous in physics, either produced through experimentation or modeling outputs. Both require skills in analyzing, interperetting, and presenting their data in a coherent manner. Computer Science (CS) courses are not very clear on how to apply their foundational programming skills to this task. These excercises are designed to bridge the theory of computer science to the application of real-world data by using Python effectively for scientific and data-intensive computing."
   ]
  },
  {
   "cell_type": "raw",
   "id": "e00ee511-6323-4f70-b756-bc85b3ae2794",
   "metadata": {
    "tags": []
   },
   "source": [
    "Here I will emphasise the use of Ipython (Interactive Python) with a text editor of your choice, or Jupyter. Both utilize Ipython notebooks which this text is written in. The textbook \"Python Data Science Handbook\", Jake VanderPlas, is encouraged as a reference guide for further tips and tricks of Python coding."
   ]
  },
  {
   "cell_type": "code",
   "execution_count": 1,
   "id": "74d6eed4",
   "metadata": {},
   "outputs": [],
   "source": [
    "def square(a):\n",
    "    \"\"\"\"Return the square of a\"\"\"\n",
    "    return a**2"
   ]
  },
  {
   "cell_type": "code",
   "execution_count": 2,
   "id": "88976323",
   "metadata": {
    "scrolled": true,
    "tags": []
   },
   "outputs": [
    {
     "data": {
      "text/plain": [
       "\u001b[1;31mSignature:\u001b[0m \u001b[0msquare\u001b[0m\u001b[1;33m(\u001b[0m\u001b[0ma\u001b[0m\u001b[1;33m)\u001b[0m\u001b[1;33m\u001b[0m\u001b[1;33m\u001b[0m\u001b[0m\n",
       "\u001b[1;31mSource:\u001b[0m   \n",
       "\u001b[1;32mdef\u001b[0m \u001b[0msquare\u001b[0m\u001b[1;33m(\u001b[0m\u001b[0ma\u001b[0m\u001b[1;33m)\u001b[0m\u001b[1;33m:\u001b[0m\u001b[1;33m\n",
       "\u001b[0m    \u001b[1;34m\"\"\"\"Return the square of a\"\"\"\u001b[0m\u001b[1;33m\n",
       "\u001b[0m    \u001b[1;32mreturn\u001b[0m \u001b[0ma\u001b[0m\u001b[1;33m**\u001b[0m\u001b[1;36m2\u001b[0m\u001b[1;33m\u001b[0m\u001b[1;33m\u001b[0m\u001b[0m\n",
       "\u001b[1;31mFile:\u001b[0m      c:\\users\\kenne\\documents\\github\\<ipython-input-1-4f07035193c0>\n",
       "\u001b[1;31mType:\u001b[0m      function\n"
      ]
     },
     "metadata": {},
     "output_type": "display_data"
    }
   ],
   "source": [
    "square??"
   ]
  },
  {
   "cell_type": "code",
   "execution_count": null,
   "id": "148f1148",
   "metadata": {},
   "outputs": [],
   "source": []
  },
  {
   "cell_type": "code",
   "execution_count": null,
   "id": "7c9f0f5a",
   "metadata": {},
   "outputs": [],
   "source": []
  },
  {
   "cell_type": "raw",
   "id": "b41159d3",
   "metadata": {},
   "source": []
  },
  {
   "cell_type": "raw",
   "id": "c7596fd5",
   "metadata": {},
   "source": []
  }
 ],
 "metadata": {
  "celltoolbar": "Tags",
  "kernelspec": {
   "display_name": "Python 3",
   "language": "python",
   "name": "python3"
  },
  "language_info": {
   "codemirror_mode": {
    "name": "ipython",
    "version": 3
   },
   "file_extension": ".py",
   "mimetype": "text/x-python",
   "name": "python",
   "nbconvert_exporter": "python",
   "pygments_lexer": "ipython3",
   "version": "3.8.8"
  },
  "toc-autonumbering": true,
  "toc-showcode": false,
  "toc-showmarkdowntxt": true,
  "widgets": {
   "application/vnd.jupyter.widget-state+json": {
    "state": {},
    "version_major": 2,
    "version_minor": 0
   }
  }
 },
 "nbformat": 4,
 "nbformat_minor": 5
}
