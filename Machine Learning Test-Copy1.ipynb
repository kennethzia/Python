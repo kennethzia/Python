{
 "cells": [
  {
   "cell_type": "markdown",
   "metadata": {},
   "source": [
    "# Background\n",
    "Using the OATH aurora dataset (http://tid.uio.no/plasma/oath/) which has pre-classified images of either good data [0] (present aurora) or bad data [1] (no aurora,clouds, or moon). This test case is a precursor to building and using this model on USU's Atmospheric Imaging Lab's all-sky imager data. What follows is a breakdown of the code needed in this automated anaylsis procedure.\n",
    "\n",
    "## Setup\n",
    "Below is the necessary packages to run the code which can be done on the system independently or with a .yml file (provided on request). The website links are roadmaps that helped complete this work."
   ]
  },
  {
   "cell_type": "code",
   "execution_count": 3,
   "metadata": {},
   "outputs": [],
   "source": [
    "#https://www.kaggle.com/code/prashant111/lightgbm-classifier-in-python/notebook\n",
    "#https://www.analyticsvidhya.com/blog/2021/08/complete-guide-on-how-to-use-lightgbm-in-python/\n",
    "#https://lightgbm.readthedocs.io/en/latest/Python-Intro.html#training\n",
    "\n",
    "import os\n",
    "import numpy as np\n",
    "import pandas as pd\n",
    "import matplotlib.pyplot as plt\n",
    "import matplotlib.image as mpimg\n",
    "import seaborn as sns\n",
    "import cv2\n",
    "from sklearn.model_selection import train_test_split\n",
    "from sklearn.metrics import accuracy_score\n",
    "import lightgbm as lgb\n",
    "from sklearn import metrics\n",
    "import glob\n",
    "from sklearn.metrics import confusion_matrix\n",
    "from sklearn.metrics import classification_report"
   ]
  },
  {
   "cell_type": "markdown",
   "metadata": {},
   "source": []
  },
  {
   "cell_type": "code",
   "execution_count": 4,
   "metadata": {},
   "outputs": [],
   "source": [
    "path = r'D:\\OATH\\oath_v1.1'"
   ]
  },
  {
   "cell_type": "code",
   "execution_count": 5,
   "metadata": {},
   "outputs": [],
   "source": [
    "df = pd.read_csv(path + '\\classifications\\classifications.csv')"
   ]
  },
  {
   "cell_type": "markdown",
   "metadata": {},
   "source": [
    "This file 'head' gives a peek at the data within the pandas DataFrame (df). Here we see the first column is the binary classifaction (class2) for good or bad data followed by the 6-term classification for types of aurora and bad conditions (class6). The (picNum) gives the image numeber in the database, (picType) is the classification given to the image, and (rotAng) is the aritrary angle the image is said to rotate in order to remove directional structured bias in the images.  "
   ]
  },
  {
   "cell_type": "code",
   "execution_count": 6,
   "metadata": {},
   "outputs": [
    {
     "data": {
      "text/html": [
       "<div>\n",
       "<style scoped>\n",
       "    .dataframe tbody tr th:only-of-type {\n",
       "        vertical-align: middle;\n",
       "    }\n",
       "\n",
       "    .dataframe tbody tr th {\n",
       "        vertical-align: top;\n",
       "    }\n",
       "\n",
       "    .dataframe thead th {\n",
       "        text-align: right;\n",
       "    }\n",
       "</style>\n",
       "<table border=\"1\" class=\"dataframe\">\n",
       "  <thead>\n",
       "    <tr style=\"text-align: right;\">\n",
       "      <th></th>\n",
       "      <th>class2</th>\n",
       "      <th>class6</th>\n",
       "      <th>picNum</th>\n",
       "      <th>picType</th>\n",
       "      <th>rotAng</th>\n",
       "    </tr>\n",
       "  </thead>\n",
       "  <tbody>\n",
       "    <tr>\n",
       "      <th>0</th>\n",
       "      <td>0</td>\n",
       "      <td>2</td>\n",
       "      <td>1</td>\n",
       "      <td>discrete</td>\n",
       "      <td>334</td>\n",
       "    </tr>\n",
       "    <tr>\n",
       "      <th>1</th>\n",
       "      <td>0</td>\n",
       "      <td>2</td>\n",
       "      <td>2</td>\n",
       "      <td>discrete</td>\n",
       "      <td>29</td>\n",
       "    </tr>\n",
       "    <tr>\n",
       "      <th>2</th>\n",
       "      <td>0</td>\n",
       "      <td>2</td>\n",
       "      <td>3</td>\n",
       "      <td>discrete</td>\n",
       "      <td>355</td>\n",
       "    </tr>\n",
       "    <tr>\n",
       "      <th>3</th>\n",
       "      <td>0</td>\n",
       "      <td>0</td>\n",
       "      <td>4</td>\n",
       "      <td>arc</td>\n",
       "      <td>118</td>\n",
       "    </tr>\n",
       "    <tr>\n",
       "      <th>4</th>\n",
       "      <td>0</td>\n",
       "      <td>0</td>\n",
       "      <td>5</td>\n",
       "      <td>arc</td>\n",
       "      <td>55</td>\n",
       "    </tr>\n",
       "  </tbody>\n",
       "</table>\n",
       "</div>"
      ],
      "text/plain": [
       "   class2  class6  picNum   picType  rotAng\n",
       "0       0       2       1  discrete     334\n",
       "1       0       2       2  discrete      29\n",
       "2       0       2       3  discrete     355\n",
       "3       0       0       4       arc     118\n",
       "4       0       0       5       arc      55"
      ]
     },
     "execution_count": 6,
     "metadata": {},
     "output_type": "execute_result"
    }
   ],
   "source": [
    "df.head()"
   ]
  },
  {
   "cell_type": "markdown",
   "metadata": {},
   "source": [
    "\"train_test_split\" fuction is designed to randomly choose from the overall data set a test-set and train-set for the model. In this case we went with the 70-30 convention, where 70% goes towards training and 30% towards testing. These sets are then saved for reproducibility of the results (train.csv and test.csv)."
   ]
  },
  {
   "cell_type": "code",
   "execution_count": 7,
   "metadata": {},
   "outputs": [],
   "source": [
    "train,test = train_test_split(df, test_size=0.30, random_state=0)\n",
    "#save the data\n",
    "df_train = pd.DataFrame(train)\n",
    "df_test = pd.DataFrame(test)\n",
    "\n",
    "df_train.to_csv(path + r'\\classifications' + r'\\train.csv', index=False)\n",
    "df_test.to_csv(path + r'\\classifications' + r'\\test.csv', index=False)"
   ]
  },
  {
   "cell_type": "markdown",
   "metadata": {},
   "source": [
    "The '.value_counts' of the training data set is to ensure that there is not a large bias in the training towards good or bad data."
   ]
  },
  {
   "cell_type": "code",
   "execution_count": 8,
   "metadata": {},
   "outputs": [
    {
     "data": {
      "text/plain": [
       "0    2306\n",
       "1    1770\n",
       "Name: class2, dtype: int64"
      ]
     },
     "execution_count": 8,
     "metadata": {},
     "output_type": "execute_result"
    }
   ],
   "source": [
    "df_train['class2'].value_counts()"
   ]
  },
  {
   "cell_type": "code",
   "execution_count": 9,
   "metadata": {},
   "outputs": [],
   "source": [
    "imgnum=df_train['picNum'].to_numpy()\n",
    "imgfiles=r'D:\\OATH\\oath_v1.1\\images\\cropped_scaled'\n",
    "rotate=df_train['rotAng'].to_numpy()\n",
    "y_train=df_train['class2'].to_numpy()"
   ]
  },
  {
   "cell_type": "code",
   "execution_count": 10,
   "metadata": {
    "scrolled": true
   },
   "outputs": [
    {
     "data": {
      "text/plain": [
       "65536"
      ]
     },
     "execution_count": 10,
     "metadata": {},
     "output_type": "execute_result"
    }
   ],
   "source": [
    "filesq=glob.glob(imgfiles+r'\\*****.png')\n",
    "testFrame=cv2.imread(filesq[0],2)\n",
    "testFrame=testFrame/np.max(testFrame)\n",
    "a=testFrame.reshape(-1)\n",
    "np.size(a)"
   ]
  },
  {
   "cell_type": "markdown",
   "metadata": {},
   "source": [
    "Even though the images are in the folder 'corpped_scaled' they are only cropped to equal 256x256 pixel arrays but the intesity is not normalized. Below is the last part of data processing where they are rotated in 90 degree increments (based on their rotation angle given to enure reproducibility) and normalized in greyscale. Lastly rather than keep their 2-D array shape they are reduced to a 1-D vector of pixels to increase in processing speed."
   ]
  },
  {
   "cell_type": "code",
   "execution_count": 11,
   "metadata": {},
   "outputs": [],
   "source": [
    "X_train = np.zeros((np.size(imgnum),np.size(a)))\n",
    "for k in range(np.size(imgnum)):\n",
    "    b=int(imgnum[k])-1\n",
    "    readFrame=cv2.imread(filesq[b],2)\n",
    "    if (rotate[k] <= 90):\n",
    "        readFrame=readFrame\n",
    "    if (rotate[k] > 90 and rotate[k] < 180):\n",
    "        readFrame=cv2.rotate(readFrame, cv2.ROTATE_90_COUNTERCLOCKWISE)\n",
    "    if (rotate[k] > 180 and rotate[k] < 270):\n",
    "        readFrame=cv2.rotate(readFrame, cv2.ROTATE_180)\n",
    "    else:\n",
    "        readFrame=cv2.rotate(readFrame, cv2.cv2.ROTATE_90_CLOCKWISE)\n",
    "    #cv2.imwrite(r'D:\\OATH\\oath_v1.1\\images\\cropped_scaled_rotated\\train'+str(imgnum[k])+'.png',readFrame)\n",
    "    X_train[k,:]=readFrame.reshape(-1)/np.max(readFrame)\n",
    "    \n",
    "    "
   ]
  },
  {
   "cell_type": "markdown",
   "metadata": {},
   "source": [
    "## Machine Learning\n",
    "Now we are ready to perform training of the algorithm. L"
   ]
  },
  {
   "cell_type": "code",
   "execution_count": 69,
   "metadata": {},
   "outputs": [
    {
     "data": {
      "text/plain": [
       "LGBMClassifier()"
      ]
     },
     "execution_count": 69,
     "metadata": {},
     "output_type": "execute_result"
    }
   ],
   "source": [
    "#clf = lgb.LGBMClassifier()\n",
    "#clf.fit(X_train, y_train)"
   ]
  },
  {
   "cell_type": "code",
   "execution_count": 12,
   "metadata": {},
   "outputs": [],
   "source": [
    "imgnum=df_test['picNum'].to_numpy()\n",
    "imgfiles=r'D:\\OATH\\oath_v1.1\\images\\cropped_scaled'\n",
    "rotate=df_test['rotAng'].to_numpy()\n",
    "y_test=df_test['class2'].to_numpy()\n",
    "filesq=glob.glob(imgfiles+r'\\*****.png')\n",
    "testFrame=cv2.imread(filesq[0],2)\n",
    "testFrame=testFrame/np.max(testFrame)\n",
    "a=testFrame.reshape(-1)\n",
    "np.size(a)\n",
    "X_test = np.zeros((np.size(imgnum),np.size(a)))\n",
    "for k in range(np.size(imgnum)):\n",
    "    b=int(imgnum[k])-1\n",
    "    readFrame=cv2.imread(filesq[b],2)\n",
    "    if (rotate[k] <= 90):\n",
    "        readFrame=readFrame\n",
    "    if (rotate[k] > 90 and rotate[k] < 180):\n",
    "        readFrame=cv2.rotate(readFrame, cv2.ROTATE_90_COUNTERCLOCKWISE)\n",
    "    if (rotate[k] > 180 and rotate[k] < 270):\n",
    "        readFrame=cv2.rotate(readFrame, cv2.ROTATE_180)\n",
    "    else:\n",
    "        readFrame=cv2.rotate(readFrame, cv2.cv2.ROTATE_90_CLOCKWISE)\n",
    "    #cv2.imwrite(r'D:\\OATH\\oath_v1.1\\images\\cropped_scaled_rotated\\test'+str(imgnum[k])+'.png',readFrame)  \n",
    "    X_test[k,:]=readFrame.reshape(-1)/np.max(readFrame)"
   ]
  },
  {
   "cell_type": "code",
   "execution_count": 71,
   "metadata": {},
   "outputs": [],
   "source": [
    "#y_pred=clf.predict(X_test)"
   ]
  },
  {
   "cell_type": "code",
   "execution_count": 73,
   "metadata": {},
   "outputs": [
    {
     "name": "stdout",
     "output_type": "stream",
     "text": [
      "LightGBM Model accuracy score: 0.9399\n"
     ]
    }
   ],
   "source": [
    "#accuracy=accuracy_score(y_pred, y_test)\n",
    "#print('LightGBM Model accuracy score: {0:0.4f}'.format(accuracy_score(y_test, y_pred)))"
   ]
  },
  {
   "cell_type": "code",
   "execution_count": 74,
   "metadata": {},
   "outputs": [
    {
     "name": "stdout",
     "output_type": "stream",
     "text": [
      "Training-set accuracy score: 1.0000\n"
     ]
    }
   ],
   "source": [
    "#y_pred_train = clf.predict(X_train)\n",
    "#print('Training-set accuracy score: {0:0.4f}'. format(accuracy_score(y_train, y_pred_train)))"
   ]
  },
  {
   "cell_type": "code",
   "execution_count": 75,
   "metadata": {},
   "outputs": [
    {
     "name": "stdout",
     "output_type": "stream",
     "text": [
      "Training set score: 1.0000\n",
      "Test set score: 0.9399\n"
     ]
    }
   ],
   "source": [
    "#print('Training set score: {:.4f}'.format(clf.score(X_train, y_train)))\n",
    "\n",
    "#print('Test set score: {:.4f}'.format(clf.score(X_test, y_test)))"
   ]
  },
  {
   "cell_type": "code",
   "execution_count": 76,
   "metadata": {},
   "outputs": [
    {
     "name": "stdout",
     "output_type": "stream",
     "text": [
      "Confusion matrix\n",
      "\n",
      " [[926  44]\n",
      " [ 61 717]]\n",
      "\n",
      "True Positives(TP) =  926\n",
      "\n",
      "True Negatives(TN) =  717\n",
      "\n",
      "False Positives(FP) =  44\n",
      "\n",
      "False Negatives(FN) =  61\n"
     ]
    }
   ],
   "source": [
    "#from sklearn.metrics import confusion_matrix\n",
    "#cm = confusion_matrix(y_test, y_pred)\n",
    "#print('Confusion matrix\\n\\n', cm)\n",
    "#print('\\nTrue Positives(TP) = ', cm[0,0])\n",
    "#print('\\nTrue Negatives(TN) = ', cm[1,1])\n",
    "#print('\\nFalse Positives(FP) = ', cm[0,1])\n",
    "#print('\\nFalse Negatives(FN) = ', cm[1,0])"
   ]
  },
  {
   "cell_type": "code",
   "execution_count": 90,
   "metadata": {},
   "outputs": [
    {
     "data": {
      "text/plain": [
       "<AxesSubplot:>"
      ]
     },
     "execution_count": 90,
     "metadata": {},
     "output_type": "execute_result"
    },
    {
     "data": {
      "image/png": "[encoded data removed]",
      "text/plain": [
       "<Figure size 432x288 with 2 Axes>"
      ]
     },
     "metadata": {
      "needs_background": "light"
     },
     "output_type": "display_data"
    }
   ],
   "source": [
    "#cm_matrix = pd.DataFrame(data=cm, columns=['Actual Bad_data:1', 'Actual Good_data:0'], \n",
    "                                 index=['Predict Bad:1', 'Predict Good:0'])\n",
    "\n",
    "#sns.heatmap(cm_matrix, annot=True, fmt='d', cmap='YlGnBu')"
   ]
  },
  {
   "cell_type": "code",
   "execution_count": 92,
   "metadata": {},
   "outputs": [
    {
     "name": "stdout",
     "output_type": "stream",
     "text": [
      "              precision    recall  f1-score   support\n",
      "\n",
      "           0       0.94      0.95      0.95       970\n",
      "           1       0.94      0.92      0.93       778\n",
      "\n",
      "    accuracy                           0.94      1748\n",
      "   macro avg       0.94      0.94      0.94      1748\n",
      "weighted avg       0.94      0.94      0.94      1748\n",
      "\n"
     ]
    }
   ],
   "source": [
    "#from sklearn.metrics import classification_report\n",
    "#print(classification_report(y_test, y_pred))\n"
   ]
  },
  {
   "cell_type": "code",
   "execution_count": 13,
   "metadata": {},
   "outputs": [
    {
     "name": "stderr",
     "output_type": "stream",
     "text": [
      "C:\\Users\\kenne\\anaconda3\\lib\\site-packages\\lightgbm\\sklearn.py:736: UserWarning: 'verbose' argument is deprecated and will be removed in a future release of LightGBM. Pass 'log_evaluation()' callback via 'callbacks' argument instead.\n",
      "  _log_warning(\"'verbose' argument is deprecated and will be removed in a future release of LightGBM. \"\n"
     ]
    },
    {
     "name": "stdout",
     "output_type": "stream",
     "text": [
      "[20]\ttraining's binary_logloss: 0.258622\tvalid_0's binary_logloss: 0.375507\n",
      "[40]\ttraining's binary_logloss: 0.125676\tvalid_0's binary_logloss: 0.277112\n",
      "[60]\ttraining's binary_logloss: 0.0641671\tvalid_0's binary_logloss: 0.225096\n",
      "[80]\ttraining's binary_logloss: 0.0342288\tvalid_0's binary_logloss: 0.196\n",
      "[100]\ttraining's binary_logloss: 0.0184101\tvalid_0's binary_logloss: 0.175485\n"
     ]
    },
    {
     "data": {
      "text/plain": [
       "LGBMClassifier(learning_rate=0.09, max_depth=-5, random_state=42)"
      ]
     },
     "execution_count": 13,
     "metadata": {},
     "output_type": "execute_result"
    }
   ],
   "source": [
    "model = lgb.LGBMClassifier(learning_rate=0.09,max_depth=-5,random_state=42)\n",
    "model.fit(X_train,y_train,eval_set=[(X_test,y_test),(X_train,y_train)],\n",
    "          verbose=20,eval_metric='logloss')"
   ]
  },
  {
   "cell_type": "code",
   "execution_count": 15,
   "metadata": {},
   "outputs": [
    {
     "name": "stdout",
     "output_type": "stream",
     "text": [
      "Training accuracy 1.0000\n",
      "Testing accuracy 0.9331\n"
     ]
    }
   ],
   "source": [
    "print('Training accuracy {:.4f}'.format(model.score(X_train,y_train)))\n",
    "print('Testing accuracy {:.4f}'.format(model.score(X_test,y_test)))"
   ]
  },
  {
   "cell_type": "code",
   "execution_count": 16,
   "metadata": {},
   "outputs": [
    {
     "data": {
      "text/plain": [
       "<AxesSubplot:title={'center':'Feature importance'}, xlabel='Feature importance', ylabel='Features'>"
      ]
     },
     "execution_count": 16,
     "metadata": {},
     "output_type": "execute_result"
    },
    {
     "data": {
      "image/png": "[encoded data removed]",
      "text/plain": [
       "<Figure size 432x288 with 1 Axes>"
      ]
     },
     "metadata": {
      "needs_background": "light"
     },
     "output_type": "display_data"
    }
   ],
   "source": [
    "lgb.plot_importance(model)"
   ]
  },
  {
   "cell_type": "code",
   "execution_count": 17,
   "metadata": {},
   "outputs": [
    {
     "data": {
      "text/plain": [
       "<AxesSubplot:title={'center':'Metric during training'}, xlabel='Iterations', ylabel='binary_logloss'>"
      ]
     },
     "execution_count": 17,
     "metadata": {},
     "output_type": "execute_result"
    },
    {
     "data": {
      "image/png": "[encoded data removed]",
      "text/plain": [
       "<Figure size 432x288 with 1 Axes>"
      ]
     },
     "metadata": {
      "needs_background": "light"
     },
     "output_type": "display_data"
    }
   ],
   "source": [
    "lgb.plot_metric(model)"
   ]
  },
  {
   "cell_type": "code",
   "execution_count": 18,
   "metadata": {},
   "outputs": [
    {
     "ename": "ImportError",
     "evalue": "You must install graphviz and restart your session to plot tree.",
     "output_type": "error",
     "traceback": [
      "\u001b[1;31m---------------------------------------------------------------------------\u001b[0m",
      "\u001b[1;31mImportError\u001b[0m                               Traceback (most recent call last)",
      "\u001b[1;32m~\\AppData\\Local\\Temp/ipykernel_12252/1720047243.py\u001b[0m in \u001b[0;36m<module>\u001b[1;34m\u001b[0m\n\u001b[1;32m----> 1\u001b[1;33m \u001b[0mlgb\u001b[0m\u001b[1;33m.\u001b[0m\u001b[0mplot_tree\u001b[0m\u001b[1;33m(\u001b[0m\u001b[0mmodel\u001b[0m\u001b[1;33m,\u001b[0m\u001b[0mfigsize\u001b[0m\u001b[1;33m=\u001b[0m\u001b[1;33m(\u001b[0m\u001b[1;36m30\u001b[0m\u001b[1;33m,\u001b[0m\u001b[1;36m40\u001b[0m\u001b[1;33m)\u001b[0m\u001b[1;33m)\u001b[0m\u001b[1;33m\u001b[0m\u001b[1;33m\u001b[0m\u001b[0m\n\u001b[0m",
      "\u001b[1;32m~\\anaconda3\\lib\\site-packages\\lightgbm\\plotting.py\u001b[0m in \u001b[0;36mplot_tree\u001b[1;34m(booster, ax, tree_index, figsize, dpi, show_info, precision, orientation, **kwargs)\u001b[0m\n\u001b[0;32m    682\u001b[0m         \u001b[0m_\u001b[0m\u001b[1;33m,\u001b[0m \u001b[0max\u001b[0m \u001b[1;33m=\u001b[0m \u001b[0mplt\u001b[0m\u001b[1;33m.\u001b[0m\u001b[0msubplots\u001b[0m\u001b[1;33m(\u001b[0m\u001b[1;36m1\u001b[0m\u001b[1;33m,\u001b[0m \u001b[1;36m1\u001b[0m\u001b[1;33m,\u001b[0m \u001b[0mfigsize\u001b[0m\u001b[1;33m=\u001b[0m\u001b[0mfigsize\u001b[0m\u001b[1;33m,\u001b[0m \u001b[0mdpi\u001b[0m\u001b[1;33m=\u001b[0m\u001b[0mdpi\u001b[0m\u001b[1;33m)\u001b[0m\u001b[1;33m\u001b[0m\u001b[1;33m\u001b[0m\u001b[0m\n\u001b[0;32m    683\u001b[0m \u001b[1;33m\u001b[0m\u001b[0m\n\u001b[1;32m--> 684\u001b[1;33m     graph = create_tree_digraph(booster=booster, tree_index=tree_index,\n\u001b[0m\u001b[0;32m    685\u001b[0m                                 \u001b[0mshow_info\u001b[0m\u001b[1;33m=\u001b[0m\u001b[0mshow_info\u001b[0m\u001b[1;33m,\u001b[0m \u001b[0mprecision\u001b[0m\u001b[1;33m=\u001b[0m\u001b[0mprecision\u001b[0m\u001b[1;33m,\u001b[0m\u001b[1;33m\u001b[0m\u001b[1;33m\u001b[0m\u001b[0m\n\u001b[0;32m    686\u001b[0m                                 orientation=orientation, **kwargs)\n",
      "\u001b[1;32m~\\anaconda3\\lib\\site-packages\\lightgbm\\plotting.py\u001b[0m in \u001b[0;36mcreate_tree_digraph\u001b[1;34m(booster, tree_index, show_info, precision, orientation, **kwargs)\u001b[0m\n\u001b[0;32m    600\u001b[0m         \u001b[0mshow_info\u001b[0m \u001b[1;33m=\u001b[0m \u001b[1;33m[\u001b[0m\u001b[1;33m]\u001b[0m\u001b[1;33m\u001b[0m\u001b[1;33m\u001b[0m\u001b[0m\n\u001b[0;32m    601\u001b[0m \u001b[1;33m\u001b[0m\u001b[0m\n\u001b[1;32m--> 602\u001b[1;33m     graph = _to_graphviz(tree_info, show_info, feature_names, precision,\n\u001b[0m\u001b[0;32m    603\u001b[0m                          orientation, monotone_constraints, **kwargs)\n\u001b[0;32m    604\u001b[0m \u001b[1;33m\u001b[0m\u001b[0m\n",
      "\u001b[1;32m~\\anaconda3\\lib\\site-packages\\lightgbm\\plotting.py\u001b[0m in \u001b[0;36m_to_graphviz\u001b[1;34m(tree_info, show_info, feature_names, precision, orientation, constraints, **kwargs)\u001b[0m\n\u001b[0;32m    437\u001b[0m         \u001b[1;32mfrom\u001b[0m \u001b[0mgraphviz\u001b[0m \u001b[1;32mimport\u001b[0m \u001b[0mDigraph\u001b[0m\u001b[1;33m\u001b[0m\u001b[1;33m\u001b[0m\u001b[0m\n\u001b[0;32m    438\u001b[0m     \u001b[1;32melse\u001b[0m\u001b[1;33m:\u001b[0m\u001b[1;33m\u001b[0m\u001b[1;33m\u001b[0m\u001b[0m\n\u001b[1;32m--> 439\u001b[1;33m         \u001b[1;32mraise\u001b[0m \u001b[0mImportError\u001b[0m\u001b[1;33m(\u001b[0m\u001b[1;34m'You must install graphviz and restart your session to plot tree.'\u001b[0m\u001b[1;33m)\u001b[0m\u001b[1;33m\u001b[0m\u001b[1;33m\u001b[0m\u001b[0m\n\u001b[0m\u001b[0;32m    440\u001b[0m \u001b[1;33m\u001b[0m\u001b[0m\n\u001b[0;32m    441\u001b[0m     \u001b[1;32mdef\u001b[0m \u001b[0madd\u001b[0m\u001b[1;33m(\u001b[0m\u001b[0mroot\u001b[0m\u001b[1;33m,\u001b[0m \u001b[0mtotal_count\u001b[0m\u001b[1;33m,\u001b[0m \u001b[0mparent\u001b[0m\u001b[1;33m=\u001b[0m\u001b[1;32mNone\u001b[0m\u001b[1;33m,\u001b[0m \u001b[0mdecision\u001b[0m\u001b[1;33m=\u001b[0m\u001b[1;32mNone\u001b[0m\u001b[1;33m)\u001b[0m\u001b[1;33m:\u001b[0m\u001b[1;33m\u001b[0m\u001b[1;33m\u001b[0m\u001b[0m\n",
      "\u001b[1;31mImportError\u001b[0m: You must install graphviz and restart your session to plot tree."
     ]
    },
    {
     "data": {
      "image/png": "[encoded data removed]",
      "text/plain": [
       "<Figure size 2160x2880 with 1 Axes>"
      ]
     },
     "metadata": {
      "needs_background": "light"
     },
     "output_type": "display_data"
    }
   ],
   "source": [
    "lgb.plot_tree(model,figsize=(30,40))"
   ]
  },
  {
   "cell_type": "code",
   "execution_count": null,
   "metadata": {},
   "outputs": [],
   "source": []
  }
 ],
 "metadata": {
  "kernelspec": {
   "display_name": "Python 3 (ipykernel)",
   "language": "python",
   "name": "python3"
  },
  "language_info": {
   "codemirror_mode": {
    "name": "ipython",
    "version": 3
   },
   "file_extension": ".py",
   "mimetype": "text/x-python",
   "name": "python",
   "nbconvert_exporter": "python",
   "pygments_lexer": "ipython3",
   "version": "3.9.7"
  }
 },
 "nbformat": 4,
 "nbformat_minor": 4
}
