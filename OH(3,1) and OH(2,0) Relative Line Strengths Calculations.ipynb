{
 "cells": [
  {
   "cell_type": "markdown",
   "id": "9784c4a5-0275-4c0a-a36d-0d65fd809c37",
   "metadata": {
    "tags": []
   },
   "source": [
    "This Python notebook walks through the calculations and sources for the excited vibrational levels of OH radicals and their corresponding electronic transitions that constitute the bands of interest."
   ]
  },
  {
   "cell_type": "markdown",
   "id": "7201bace-c17f-4756-aa14-7eb7aa1f6dbb",
   "metadata": {},
   "source": [
    "## References\n",
    "Brooke, James SA, et al. \"Line strengths of rovibrational and rotational transitions in the X2Π ground state of OH.\" Journal of Quantitative Spectroscopy and Radiative Transfer 168 (2016): 142-157.\n",
    "\n",
    "Herzberg, Gerhard. \"Spectra of diatomic molecules.\" Molecular Spectra & Molecular Structure 1 (1950).\n",
    "\n",
    "Krassovsky, V. I., N. N. Shefov, and V. I. Yarin. \"Atlas of the airglow spectrum 3000–12400 Å.\" Planetary and Space Science 9.12 (1962): 883-915.\n",
    "\n",
    "Rousselot, P., et al. \"Night-sky spectral atlas of OH emission lines in the near-infrared.\" Astronomy and Astrophysics 354 (2000): 1134-1150.\n",
    "\n"
   ]
  },
  {
   "cell_type": "markdown",
   "id": "208f5c29-ff63-403b-a9e8-ed2d864b9104",
   "metadata": {},
   "source": [
    "## Code\n",
    "Starting with front matter and defining variables for holding Band wavenumbers (P,Q,R), wavelength (WP,WR,WQ), and Intensities (IP,IQ,IW). These are also divided into the OH subbands ($1/2$ and $3/2$) shown in Figure 2 of Rousselot et al. [2000] and denoted by the (P1,P2,ect.). "
   ]
  },
  {
   "cell_type": "code",
   "execution_count": 2,
   "id": "8c45dd4f-3e22-4941-a710-3bf98874197d",
   "metadata": {
    "tags": []
   },
   "outputs": [],
   "source": [
    "import matplotlib.pyplot as plt\n",
    "import numpy as np\n",
    "\n",
    "plt.rcParams.update({'font.size': 15})\n",
    "\n",
    "Jnum=15  #Number of lines derived\n",
    "Temp=np.arange(150,250)  #K\n",
    "\n",
    "F1lower=np.zeros((Jnum))    #3/2 states\n",
    "F2lower=np.zeros((Jnum))    #1/2 states\n",
    "\n",
    "F1upper=np.zeros((Jnum))    #3/2 states\n",
    "F2upper=np.zeros((Jnum))    #1/2 states\n",
    "\n",
    "\n",
    "OH31P12=np.zeros((3,np.size(Temp)))\n",
    "OH31P14=np.zeros((3,np.size(Temp)))\n",
    "OH20Q2=np.zeros((3,np.size(Temp)))\n",
    "\n",
    "Lines=Jnum-4\n",
    "\n",
    "P1=np.zeros((Lines))\n",
    "R1=np.zeros((Lines))\n",
    "Q1=np.zeros((Lines))\n",
    "P2=np.zeros((Lines))\n",
    "R2=np.zeros((Lines))\n",
    "Q2=np.zeros((Lines))\n",
    "\n",
    "WP1=np.zeros((Lines))\n",
    "WR1=np.zeros((Lines))\n",
    "WQ1=np.zeros((Lines))\n",
    "WP2=np.zeros((Lines))\n",
    "WR2=np.zeros((Lines))\n",
    "WQ2=np.zeros((Lines))\n",
    "\n",
    "IP1=np.zeros((Lines))\n",
    "IR1=np.zeros((Lines))\n",
    "IQ1=np.zeros((Lines))\n",
    "IP2=np.zeros((Lines))\n",
    "IR2=np.zeros((Lines))\n",
    "IQ2=np.zeros((Lines))"
   ]
  },
  {
   "cell_type": "markdown",
   "id": "a02a84cd-cf8b-4878-b6cb-f72d6073d92d",
   "metadata": {},
   "source": [
    "#### Vibrational state constants \n",
    "are defined below from Brooke et al. [2016] and only Ynu is given in the correct form from Krassovsky et al. [1962]. Here we also have the band center line nu0 defined from the energy level change of vibrational levels."
   ]
  },
  {
   "cell_type": "code",
   "execution_count": 3,
   "id": "52477354-6728-4896-9c5a-634b0c6ec0b1",
   "metadata": {},
   "outputs": [],
   "source": [
    "#OH(3,1) Band [v=1,v=3] constants\n",
    "\n",
    "Bnu=np.array([17.82391990,16.427914])\n",
    "Dnu=np.array([0.001870447,0.00180599])\n",
    "Ynu=np.array([-7.876,-8.568])    #<--Krassovsky & Brooke --> -0.113749,-0.10250])\n",
    "Anu=np.array([-139.32031,-139.84424])\n",
    "qnu=np.array([-0.0369357,-0.033393])\n",
    "Gnu=np.array([3570.35244,10216.1478])\n",
    "\n",
    "nu0 = Gnu[1]-Gnu[0]"
   ]
  },
  {
   "cell_type": "markdown",
   "id": "1ee18112-8a84-4e6a-a9cf-686661c24c11",
   "metadata": {},
   "source": [
    "#### Electronic state energy levels\n",
    "are defined in Herzberg pg.232 and Krassovsky pg.896, below is using the total electron angular momentum (K) instead of the orbital angular momentum (L); K=L+S where S is spin ($\\pm 1/2$ for OH). Again refer to Fig. 2 of Rousselot for a clearer image of the relationship and initial K states allowed for the $1/2$ (F2) and $3/2$ (F1) subbands. *[The version below does not use the hyper fine splitting present in each line for clarity]."
   ]
  },
  {
   "cell_type": "code",
   "execution_count": 4,
   "id": "31ad142d-29b9-45ce-a2fb-d1136e342a4c",
   "metadata": {},
   "outputs": [],
   "source": [
    "for J in range(0,Jnum):\n",
    "    J3 = J+0.5\n",
    "    J2 = J+1.5\n",
    "    K = J\n",
    "    #K relations\n",
    "    F1upper[K] = Bnu[1]*((K+1)**2-1-1/2*np.sqrt(4*(K+1)**2+Ynu[1]*(Ynu[1]-4)))-Dnu[1]*K**2*(K+1)**2\n",
    "    F1lower[K] = Bnu[0]*((K+1)**2-1-1/2*np.sqrt(4*(K+1)**2+Ynu[0]*(Ynu[0]-4)))-Dnu[0]*K**2*(K+1)**2\n",
    "    F2upper[K] = Bnu[1]*(K**2-1+1/2*np.sqrt(4*K**2+Ynu[1]*(Ynu[1]-4)))-Dnu[1]*K**2*(K+1)**2        \n",
    "    F2lower[K] = Bnu[0]*(K**2-1+1/2*np.sqrt(4*K**2+Ynu[0]*(Ynu[0]-4)))-Dnu[0]*K**2*(K+1)**2"
   ]
  },
  {
   "cell_type": "markdown",
   "id": "f744c11e-9cd8-4798-ba39-53daf14b06d3",
   "metadata": {},
   "source": [
    "#### P, Q, and R branches wavenumbers\n",
    "are calculated as the difference of energy [$cm^{-1}$] from upper state and lower state plus the inital band position of nu0 (where transitions are only being allowed within the same subband) [Herzberg pg. 261]."
   ]
  },
  {
   "cell_type": "code",
   "execution_count": 5,
   "id": "c5bab9e2-d048-44d1-b932-509a96572788",
   "metadata": {},
   "outputs": [],
   "source": [
    "for J in range(0,Jnum-4):\n",
    "\n",
    "        P1[J]=nu0+F1upper[J+1]-F1lower[J+2]  \n",
    "        R1[J]=nu0+F1upper[J+3]-F1lower[J+2]\n",
    "\n",
    "        P2[J]=nu0+F2upper[J+1]-F2lower[J+2]\n",
    "        R2[J]=nu0+F2upper[J+3]-F2lower[J+2]\n",
    "\n",
    "        Q1[J]=nu0+F1upper[J+1]-F1lower[J+1]\n",
    "        Q2[J]=nu0+F2upper[J+1]-F2lower[J+1]\n",
    "#converted to nm from cm^-1\n",
    "WP1 = 1/P1*10**7\n",
    "WP2 = 1/P2*10**7\n",
    "WR1 = 1/R1*10**7\n",
    "WR2 = 1/R2*10**7\n",
    "WQ1 = 1/Q1*10**7\n",
    "WQ2 = 1/Q2*10**7"
   ]
  },
  {
   "cell_type": "markdown",
   "id": "040a889d-04a9-4c31-87a6-cd18329511da",
   "metadata": {},
   "source": [
    "#### Relative line strength intensities\n",
    "From Herzberg pg.126-7, the intensities of rotation-vibration bands in emission are proportional to the product of a frequncy factor ($\\nu ^4$), line strength ($S_J$), and the Boltzmann factor. $S_J$ is defined on page 208 (Honl-London formulae) for each branch, and the Boltzmann factor is the $exp(\\frac {-1.44*E_J}{T})$, where $1.44$ is the constant $hc/k_B$ converted to $cm^{-1}$."
   ]
  },
  {
   "cell_type": "code",
   "execution_count": 6,
   "id": "a17e92df-9839-43e4-972f-5d0056280284",
   "metadata": {},
   "outputs": [],
   "source": [
    "for J in range(0,Jnum-4):\n",
    "    KP=(J+1)\n",
    "    KR=(J+1)\n",
    "    z=99\n",
    "    IP1[J]=(J+1+1/2+1+3/2)*(J+1+1/2+1-3/2)/(J+1+1/2+1)*np.exp(-1.44*F1upper[J+1]/Temp[z])\n",
    "    IR1[J]=(J+3+1/2+3/2)*(J+3+1/2-3/2)/(J+3+1/2)*np.exp(-1.44*F1upper[J+3]/Temp[z])\n",
    "\n",
    "    IP2[J]=(J+1/2+1+1/2)*(J+1/2+1-1/2)/(J+1/2+1)*np.exp(-1.44*F2upper[J+1]/Temp[z])\n",
    "    IR2[J]=(J+3-1/2+1/2)*(J+3-1/2-1/2)/(J+3-1/2)*np.exp(-1.44*F2upper[J+3]/Temp[z])\n",
    "\n",
    "    IQ1[J]=(2*J+1+1/2+1)*(3/2)**2/((J+1+1/2)*(J+1+1/2+1))*np.exp(-1.44*F1upper[J+1]/Temp[z])\n",
    "    IQ2[J]=(2*J+1-1/2+1)*(1/2)**2/((J+1-1/2)*(J+1-1/2+1))*np.exp(-1.44*F2upper[J+1]/Temp[z]) \n"
   ]
  },
  {
   "cell_type": "markdown",
   "id": "10077b14-51a9-4d7f-8f1c-f8d4ae56a142",
   "metadata": {},
   "source": [
    "## Resulting OH(3,1) Line Intensity Spectrum"
   ]
  },
  {
   "cell_type": "code",
   "execution_count": 7,
   "id": "f2627a45-f21b-4434-84f8-bf876bcba428",
   "metadata": {},
   "outputs": [
    {
     "data": {
      "text/plain": [
       "<matplotlib.legend.Legend at 0x1a9750f6310>"
      ]
     },
     "execution_count": 7,
     "metadata": {},
     "output_type": "execute_result"
    },
    {
     "data": {
      "image/png": "[encoded data removed]",
      "text/plain": [
       "<Figure size 864x864 with 1 Axes>"
      ]
     },
     "metadata": {
      "needs_background": "light"
     },
     "output_type": "display_data"
    }
   ],
   "source": [
    "total = np.sum(IP1)+np.sum(IP2)+np.sum(IQ2)+np.sum(IR1)+np.sum(IR2)+np.sum(IQ1)\n",
    "plt.figure(figsize=(12,12))\n",
    "plt.title('OH(3,1)')\n",
    "plt.xlabel('Wavelength [nm]')\n",
    "plt.ylabel('Relative Intensity')\n",
    "plt.stem(WP1,IP1/total,label='P(1)',linefmt='-')  #Branch with P1[0]=P1(2) lines and P1[2]=P1(4) line use OH(3,1)\n",
    "plt.stem(WP2,IP2/total,label='P(2)',linefmt='--')\n",
    "plt.stem(WR1,IR1/total,label='R(1)',linefmt='-')\n",
    "plt.stem(WR2,IR2/total,label='R(2)',linefmt='-')\n",
    "plt.stem(WQ1,IQ1/total,label='Q(1)',linefmt=':') #Q1[0] = Q1(1) line Use OH(2,0)\n",
    "plt.stem(WQ2,IQ2/total,label='Q(2)',linefmt=':')\n",
    "\n",
    "plt.legend()"
   ]
  },
  {
   "cell_type": "code",
   "execution_count": null,
   "id": "da1e6e0f-1990-474e-98e6-2d7ffc9f4534",
   "metadata": {},
   "outputs": [],
   "source": []
  }
 ],
 "metadata": {
  "kernelspec": {
   "display_name": "Python 3 (ipykernel)",
   "language": "python",
   "name": "python3"
  },
  "language_info": {
   "codemirror_mode": {
    "name": "ipython",
    "version": 3
   },
   "file_extension": ".py",
   "mimetype": "text/x-python",
   "name": "python",
   "nbconvert_exporter": "python",
   "pygments_lexer": "ipython3",
   "version": "3.8.8"
  }
 },
 "nbformat": 4,
 "nbformat_minor": 5
}
