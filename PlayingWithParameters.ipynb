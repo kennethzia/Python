{
 "cells": [
  {
   "cell_type": "markdown",
   "metadata": {},
   "source": [
    "# Background\n",
    "Using the OATH aurora dataset (http://tid.uio.no/plasma/oath/) which has pre-classified images of either good data [0] (present aurora) or bad data [1] (no aurora,clouds, or moon). This test case is a precursor to building and using this model on USU's Atmospheric Imaging Lab's all-sky imager data. What follows is a breakdown of the code needed in this automated anaylsis procedure.\n",
    "\n",
    "## Setup\n",
    "Below is the necessary packages to run the code which can be done on the system independently or with a .yml file (provided on request). The website links are roadmaps that helped complete this work."
   ]
  },
  {
   "cell_type": "code",
   "execution_count": 2,
   "metadata": {},
   "outputs": [],
   "source": [
    "#https://www.kaggle.com/code/prashant111/lightgbm-classifier-in-python/notebook\n",
    "#https://www.analyticsvidhya.com/blog/2021/08/complete-guide-on-how-to-use-lightgbm-in-python/\n",
    "#https://lightgbm.readthedocs.io/en/latest/Python-Intro.html#training\n",
    "#https://machinelearningmastery.com/light-gradient-boosted-machine-lightgbm-ensemble/\n",
    "\n",
    "import os\n",
    "import numpy as np\n",
    "import pandas as pd\n",
    "import matplotlib.pyplot as plt\n",
    "import matplotlib.image as mpimg\n",
    "import seaborn as sns\n",
    "import cv2\n",
    "from sklearn.model_selection import train_test_split\n",
    "from sklearn.metrics import accuracy_score\n",
    "import lightgbm as lgb\n",
    "from sklearn import metrics\n",
    "import glob\n",
    "from sklearn.metrics import confusion_matrix\n",
    "from sklearn.metrics import classification_report"
   ]
  },
  {
   "cell_type": "markdown",
   "metadata": {},
   "source": []
  },
  {
   "cell_type": "code",
   "execution_count": 3,
   "metadata": {},
   "outputs": [],
   "source": [
    "path = r'D:\\OATH\\oath_v1.1'"
   ]
  },
  {
   "cell_type": "code",
   "execution_count": 4,
   "metadata": {},
   "outputs": [],
   "source": [
    "df = pd.read_csv(path + '\\classifications\\classifications.csv')"
   ]
  },
  {
   "cell_type": "markdown",
   "metadata": {},
   "source": [
    "This file 'head' gives a peek at the data within the pandas DataFrame (df). Here we see the first column is the binary classifaction (class2) for good or bad data followed by the 6-term classification for types of aurora and bad conditions (class6). The (picNum) gives the image numeber in the database, (picType) is the classification given to the image, and (rotAng) is the aritrary angle the image is said to rotate in order to remove directional structured bias in the images.  "
   ]
  },
  {
   "cell_type": "code",
   "execution_count": 5,
   "metadata": {},
   "outputs": [
    {
     "data": {
      "text/html": [
       "<div>\n",
       "<style scoped>\n",
       "    .dataframe tbody tr th:only-of-type {\n",
       "        vertical-align: middle;\n",
       "    }\n",
       "\n",
       "    .dataframe tbody tr th {\n",
       "        vertical-align: top;\n",
       "    }\n",
       "\n",
       "    .dataframe thead th {\n",
       "        text-align: right;\n",
       "    }\n",
       "</style>\n",
       "<table border=\"1\" class=\"dataframe\">\n",
       "  <thead>\n",
       "    <tr style=\"text-align: right;\">\n",
       "      <th></th>\n",
       "      <th>class2</th>\n",
       "      <th>class6</th>\n",
       "      <th>picNum</th>\n",
       "      <th>picType</th>\n",
       "      <th>rotAng</th>\n",
       "    </tr>\n",
       "  </thead>\n",
       "  <tbody>\n",
       "    <tr>\n",
       "      <th>0</th>\n",
       "      <td>0</td>\n",
       "      <td>2</td>\n",
       "      <td>1</td>\n",
       "      <td>discrete</td>\n",
       "      <td>334</td>\n",
       "    </tr>\n",
       "    <tr>\n",
       "      <th>1</th>\n",
       "      <td>0</td>\n",
       "      <td>2</td>\n",
       "      <td>2</td>\n",
       "      <td>discrete</td>\n",
       "      <td>29</td>\n",
       "    </tr>\n",
       "    <tr>\n",
       "      <th>2</th>\n",
       "      <td>0</td>\n",
       "      <td>2</td>\n",
       "      <td>3</td>\n",
       "      <td>discrete</td>\n",
       "      <td>355</td>\n",
       "    </tr>\n",
       "    <tr>\n",
       "      <th>3</th>\n",
       "      <td>0</td>\n",
       "      <td>0</td>\n",
       "      <td>4</td>\n",
       "      <td>arc</td>\n",
       "      <td>118</td>\n",
       "    </tr>\n",
       "    <tr>\n",
       "      <th>4</th>\n",
       "      <td>0</td>\n",
       "      <td>0</td>\n",
       "      <td>5</td>\n",
       "      <td>arc</td>\n",
       "      <td>55</td>\n",
       "    </tr>\n",
       "  </tbody>\n",
       "</table>\n",
       "</div>"
      ],
      "text/plain": [
       "   class2  class6  picNum   picType  rotAng\n",
       "0       0       2       1  discrete     334\n",
       "1       0       2       2  discrete      29\n",
       "2       0       2       3  discrete     355\n",
       "3       0       0       4       arc     118\n",
       "4       0       0       5       arc      55"
      ]
     },
     "execution_count": 5,
     "metadata": {},
     "output_type": "execute_result"
    }
   ],
   "source": [
    "df.head()"
   ]
  },
  {
   "cell_type": "markdown",
   "metadata": {},
   "source": [
    "\"train_test_split\" fuction is designed to randomly choose from the overall data set a test-set and train-set for the model. In this case we went with the 70-30 convention, where 70% goes towards training and 30% towards testing. These sets are then saved for reproducibility of the results (train.csv and test.csv)."
   ]
  },
  {
   "cell_type": "code",
   "execution_count": 6,
   "metadata": {},
   "outputs": [],
   "source": [
    "train,test = train_test_split(df, test_size=0.30, random_state=0)\n",
    "#save the data\n",
    "df_train = pd.DataFrame(train)\n",
    "df_test = pd.DataFrame(test)\n",
    "\n",
    "df_train.to_csv(path + r'\\classifications' + r'\\train.csv', index=False)\n",
    "df_test.to_csv(path + r'\\classifications' + r'\\test.csv', index=False)"
   ]
  },
  {
   "cell_type": "markdown",
   "metadata": {},
   "source": [
    "The '.value_counts' of the training data set is to ensure that there is not a large bias in the training towards good or bad data."
   ]
  },
  {
   "cell_type": "code",
   "execution_count": 7,
   "metadata": {},
   "outputs": [
    {
     "data": {
      "text/plain": [
       "0    2306\n",
       "1    1770\n",
       "Name: class2, dtype: int64"
      ]
     },
     "execution_count": 7,
     "metadata": {},
     "output_type": "execute_result"
    }
   ],
   "source": [
    "df_train['class2'].value_counts()"
   ]
  },
  {
   "cell_type": "code",
   "execution_count": 8,
   "metadata": {},
   "outputs": [],
   "source": [
    "imgnum=df_train['picNum'].to_numpy()\n",
    "imgfiles=r'D:\\OATH\\oath_v1.1\\images\\cropped_scaled'\n",
    "rotate=df_train['rotAng'].to_numpy()\n",
    "y_train=df_train['class2'].to_numpy()"
   ]
  },
  {
   "cell_type": "code",
   "execution_count": 9,
   "metadata": {
    "scrolled": true
   },
   "outputs": [
    {
     "data": {
      "text/plain": [
       "65536"
      ]
     },
     "execution_count": 9,
     "metadata": {},
     "output_type": "execute_result"
    }
   ],
   "source": [
    "filesq=glob.glob(imgfiles+r'\\*****.png')\n",
    "testFrame=cv2.imread(filesq[0],2)\n",
    "testFrame=testFrame/np.max(testFrame)\n",
    "a=testFrame.reshape(-1)\n",
    "np.size(a)"
   ]
  },
  {
   "cell_type": "markdown",
   "metadata": {},
   "source": [
    "Even though the images are in the folder 'corpped_scaled' they are only cropped to equal 256x256 pixel arrays but the intesity is not normalized. Below is the last part of data processing where they are rotated in 90 degree increments (based on their rotation angle given to enure reproducibility) and normalized in greyscale. Lastly rather than keep their 2-D array shape they are reduced to a 1-D vector of pixels to increase in processing speed."
   ]
  },
  {
   "cell_type": "code",
   "execution_count": 10,
   "metadata": {},
   "outputs": [],
   "source": [
    "X_train = np.zeros((np.size(imgnum),np.size(a)))\n",
    "for k in range(np.size(imgnum)):\n",
    "    b=int(imgnum[k])-1\n",
    "    readFrame=cv2.imread(filesq[b],2)\n",
    "    if (rotate[k] <= 90):\n",
    "        readFrame=readFrame\n",
    "    if (rotate[k] > 90 and rotate[k] < 180):\n",
    "        readFrame=cv2.rotate(readFrame, cv2.ROTATE_90_COUNTERCLOCKWISE)\n",
    "    if (rotate[k] > 180 and rotate[k] < 270):\n",
    "        readFrame=cv2.rotate(readFrame, cv2.ROTATE_180)\n",
    "    else:\n",
    "        readFrame=cv2.rotate(readFrame, cv2.cv2.ROTATE_90_CLOCKWISE)\n",
    "    #cv2.imwrite(r'D:\\OATH\\oath_v1.1\\images\\cropped_scaled_rotated\\train'+str(imgnum[k])+'.png',readFrame)\n",
    "    X_train[k,:]=readFrame.reshape(-1)/np.max(readFrame)\n",
    "    \n",
    "    "
   ]
  },
  {
   "cell_type": "markdown",
   "metadata": {},
   "source": [
    "## Machine Learning\n",
    "Now we are ready to perform training of the algorithm. L"
   ]
  },
  {
   "cell_type": "code",
   "execution_count": 11,
   "metadata": {},
   "outputs": [],
   "source": [
    "#clf = lgb.LGBMClassifier()\n",
    "#clf.fit(X_train, y_train)"
   ]
  },
  {
   "cell_type": "code",
   "execution_count": 12,
   "metadata": {},
   "outputs": [],
   "source": [
    "imgnum=df_test['picNum'].to_numpy()\n",
    "imgfiles=r'D:\\OATH\\oath_v1.1\\images\\cropped_scaled'\n",
    "rotate=df_test['rotAng'].to_numpy()\n",
    "y_test=df_test['class2'].to_numpy()\n",
    "filesq=glob.glob(imgfiles+r'\\*****.png')\n",
    "testFrame=cv2.imread(filesq[0],2)\n",
    "testFrame=testFrame/np.max(testFrame)\n",
    "a=testFrame.reshape(-1)\n",
    "np.size(a)\n",
    "X_test = np.zeros((np.size(imgnum),np.size(a)))\n",
    "for k in range(np.size(imgnum)):\n",
    "    b=int(imgnum[k])-1\n",
    "    readFrame=cv2.imread(filesq[b],2)\n",
    "    if (rotate[k] <= 90):\n",
    "        readFrame=readFrame\n",
    "    if (rotate[k] > 90 and rotate[k] < 180):\n",
    "        readFrame=cv2.rotate(readFrame, cv2.ROTATE_90_COUNTERCLOCKWISE)\n",
    "    if (rotate[k] > 180 and rotate[k] < 270):\n",
    "        readFrame=cv2.rotate(readFrame, cv2.ROTATE_180)\n",
    "    else:\n",
    "        readFrame=cv2.rotate(readFrame, cv2.cv2.ROTATE_90_CLOCKWISE)\n",
    "    #cv2.imwrite(r'D:\\OATH\\oath_v1.1\\images\\cropped_scaled_rotated\\test'+str(imgnum[k])+'.png',readFrame)  \n",
    "    X_test[k,:]=readFrame.reshape(-1)/np.max(readFrame)"
   ]
  },
  {
   "cell_type": "code",
   "execution_count": 13,
   "metadata": {},
   "outputs": [],
   "source": [
    "#y_pred=clf.predict(X_test)"
   ]
  },
  {
   "cell_type": "code",
   "execution_count": 14,
   "metadata": {},
   "outputs": [],
   "source": [
    "#accuracy=accuracy_score(y_pred, y_test)\n",
    "#print('LightGBM Model accuracy score: {0:0.4f}'.format(accuracy_score(y_test, y_pred)))"
   ]
  },
  {
   "cell_type": "code",
   "execution_count": 15,
   "metadata": {},
   "outputs": [],
   "source": [
    "#y_pred_train = clf.predict(X_train)\n",
    "#print('Training-set accuracy score: {0:0.4f}'. format(accuracy_score(y_train, y_pred_train)))"
   ]
  },
  {
   "cell_type": "code",
   "execution_count": 16,
   "metadata": {},
   "outputs": [],
   "source": [
    "#print('Training set score: {:.4f}'.format(clf.score(X_train, y_train)))\n",
    "\n",
    "#print('Test set score: {:.4f}'.format(clf.score(X_test, y_test)))"
   ]
  },
  {
   "cell_type": "code",
   "execution_count": 17,
   "metadata": {},
   "outputs": [],
   "source": [
    "#from sklearn.metrics import confusion_matrix\n",
    "#cm = confusion_matrix(y_test, y_pred)\n",
    "#print('Confusion matrix\\n\\n', cm)\n",
    "#print('\\nTrue Positives(TP) = ', cm[0,0])\n",
    "#print('\\nTrue Negatives(TN) = ', cm[1,1])\n",
    "#print('\\nFalse Positives(FP) = ', cm[0,1])\n",
    "#print('\\nFalse Negatives(FN) = ', cm[1,0])"
   ]
  },
  {
   "cell_type": "code",
   "execution_count": 19,
   "metadata": {},
   "outputs": [],
   "source": [
    "#cm_matrix = pd.DataFrame(data=cm, columns=['Actual Bad_data:1', 'Actual Good_data:0'], index=['Predict Bad:1', 'Predict Good:0'])\n",
    "\n",
    "#sns.heatmap(cm_matrix, annot=True, fmt='d', cmap='YlGnBu')"
   ]
  },
  {
   "cell_type": "code",
   "execution_count": 20,
   "metadata": {},
   "outputs": [],
   "source": [
    "#from sklearn.metrics import classification_report\n",
    "#print(classification_report(y_test, y_pred))\n"
   ]
  },
  {
   "cell_type": "code",
   "execution_count": 21,
   "metadata": {},
   "outputs": [
    {
     "name": "stderr",
     "output_type": "stream",
     "text": [
      "C:\\Users\\kenne\\anaconda3\\lib\\site-packages\\lightgbm\\sklearn.py:736: UserWarning: 'verbose' argument is deprecated and will be removed in a future release of LightGBM. Pass 'log_evaluation()' callback via 'callbacks' argument instead.\n",
      "  _log_warning(\"'verbose' argument is deprecated and will be removed in a future release of LightGBM. \"\n"
     ]
    },
    {
     "name": "stdout",
     "output_type": "stream",
     "text": [
      "[20]\ttraining's binary_logloss: 0.258622\tvalid_0's binary_logloss: 0.375507\n",
      "[40]\ttraining's binary_logloss: 0.125676\tvalid_0's binary_logloss: 0.277112\n",
      "[60]\ttraining's binary_logloss: 0.0641671\tvalid_0's binary_logloss: 0.225096\n",
      "[80]\ttraining's binary_logloss: 0.0342288\tvalid_0's binary_logloss: 0.196\n",
      "[100]\ttraining's binary_logloss: 0.0184101\tvalid_0's binary_logloss: 0.175485\n"
     ]
    },
    {
     "data": {
      "text/plain": [
       "LGBMClassifier(learning_rate=0.09, max_depth=-5, random_state=42)"
      ]
     },
     "execution_count": 21,
     "metadata": {},
     "output_type": "execute_result"
    }
   ],
   "source": [
    "model = lgb.LGBMClassifier(learning_rate=0.09,max_depth=-5,random_state=42)\n",
    "model.fit(X_train,y_train,eval_set=[(X_test,y_test),(X_train,y_train)],\n",
    "          verbose=20,eval_metric='logloss')"
   ]
  },
  {
   "cell_type": "code",
   "execution_count": 22,
   "metadata": {},
   "outputs": [
    {
     "name": "stdout",
     "output_type": "stream",
     "text": [
      "Training accuracy 1.0000\n",
      "Testing accuracy 0.9331\n"
     ]
    }
   ],
   "source": [
    "print('Training accuracy {:.4f}'.format(model.score(X_train,y_train)))\n",
    "print('Testing accuracy {:.4f}'.format(model.score(X_test,y_test)))"
   ]
  },
  {
   "cell_type": "code",
   "execution_count": null,
   "metadata": {},
   "outputs": [],
   "source": []
  },
  {
   "cell_type": "code",
   "execution_count": 24,
   "metadata": {},
   "outputs": [
    {
     "data": {
      "text/plain": [
       "<AxesSubplot:title={'center':'Metric during training'}, xlabel='Iterations', ylabel='binary_logloss'>"
      ]
     },
     "execution_count": 24,
     "metadata": {},
     "output_type": "execute_result"
    },
    {
     "data": {
      "image/png": "[encoded data removed]",
      "text/plain": [
       "<Figure size 432x288 with 1 Axes>"
      ]
     },
     "metadata": {
      "needs_background": "light"
     },
     "output_type": "display_data"
    }
   ],
   "source": [
    "lgb.plot_metric(model)"
   ]
  },
  {
   "cell_type": "code",
   "execution_count": null,
   "metadata": {},
   "outputs": [],
   "source": []
  },
  {
   "cell_type": "code",
   "execution_count": 28,
   "metadata": {},
   "outputs": [
    {
     "data": {
      "text/plain": [
       "<sklearn.metrics._plot.confusion_matrix.ConfusionMatrixDisplay at 0x1b1f363eaf0>"
      ]
     },
     "execution_count": 28,
     "metadata": {},
     "output_type": "execute_result"
    },
    {
     "data": {
      "image/png": "[encoded data removed]",
      "text/plain": [
       "<Figure size 432x288 with 2 Axes>"
      ]
     },
     "metadata": {
      "needs_background": "light"
     },
     "output_type": "display_data"
    }
   ],
   "source": [
    "metrics.plot_confusion_matrix(model,X_test,y_test,cmap='Blues')"
   ]
  },
  {
   "cell_type": "code",
   "execution_count": 27,
   "metadata": {},
   "outputs": [
    {
     "name": "stdout",
     "output_type": "stream",
     "text": [
      "              precision    recall  f1-score   support\n",
      "\n",
      "           0       0.93      0.95      0.94       970\n",
      "           1       0.94      0.91      0.92       778\n",
      "\n",
      "    accuracy                           0.93      1748\n",
      "   macro avg       0.93      0.93      0.93      1748\n",
      "weighted avg       0.93      0.93      0.93      1748\n",
      "\n"
     ]
    }
   ],
   "source": [
    "print(metrics.classification_report(y_test,model.predict(X_test)))"
   ]
  },
  {
   "cell_type": "code",
   "execution_count": 34,
   "metadata": {},
   "outputs": [
    {
     "name": "stderr",
     "output_type": "stream",
     "text": [
      "C:\\Users\\kenne\\anaconda3\\lib\\site-packages\\lightgbm\\sklearn.py:736: UserWarning: 'verbose' argument is deprecated and will be removed in a future release of LightGBM. Pass 'log_evaluation()' callback via 'callbacks' argument instead.\n",
      "  _log_warning(\"'verbose' argument is deprecated and will be removed in a future release of LightGBM. \"\n"
     ]
    },
    {
     "name": "stdout",
     "output_type": "stream",
     "text": [
      "[20]\ttraining's binary_logloss: 0.238925\tvalid_0's binary_logloss: 0.361052\n",
      "[40]\ttraining's binary_logloss: 0.107544\tvalid_0's binary_logloss: 0.259426\n",
      "[60]\ttraining's binary_logloss: 0.0523106\tvalid_0's binary_logloss: 0.209065\n",
      "[80]\ttraining's binary_logloss: 0.0263813\tvalid_0's binary_logloss: 0.182042\n",
      "[100]\ttraining's binary_logloss: 0.0133046\tvalid_0's binary_logloss: 0.164537\n",
      "[120]\ttraining's binary_logloss: 0.00675094\tvalid_0's binary_logloss: 0.153549\n",
      "[140]\ttraining's binary_logloss: 0.00351759\tvalid_0's binary_logloss: 0.151759\n",
      "[160]\ttraining's binary_logloss: 0.00183327\tvalid_0's binary_logloss: 0.147894\n",
      "[180]\ttraining's binary_logloss: 0.000960095\tvalid_0's binary_logloss: 0.146379\n",
      "[200]\ttraining's binary_logloss: 0.000499644\tvalid_0's binary_logloss: 0.145746\n"
     ]
    },
    {
     "data": {
      "text/plain": [
       "LGBMClassifier(n_estimators=200, objective='binary')"
      ]
     },
     "execution_count": 34,
     "metadata": {},
     "output_type": "execute_result"
    }
   ],
   "source": [
    "model2 = lgb.LGBMClassifier(n_estimators=150,objective='binary')\n",
    "model2.fit(X_train,y_train,eval_set=[(X_test,y_test),(X_train,y_train)], verbose=20,eval_metric='logloss')"
   ]
  },
  {
   "cell_type": "code",
   "execution_count": 35,
   "metadata": {},
   "outputs": [
    {
     "name": "stdout",
     "output_type": "stream",
     "text": [
      "Training accuracy 1.0000\n",
      "Testing accuracy 0.9439\n"
     ]
    }
   ],
   "source": [
    "print('Training accuracy {:.4f}'.format(model2.score(X_train,y_train)))\n",
    "print('Testing accuracy {:.4f}'.format(model2.score(X_test,y_test)))"
   ]
  },
  {
   "cell_type": "code",
   "execution_count": 36,
   "metadata": {},
   "outputs": [
    {
     "data": {
      "text/plain": [
       "<AxesSubplot:title={'center':'Metric during training'}, xlabel='Iterations', ylabel='binary_logloss'>"
      ]
     },
     "execution_count": 36,
     "metadata": {},
     "output_type": "execute_result"
    },
    {
     "data": {
      "image/png": "[encoded data removed]",
      "text/plain": [
       "<Figure size 432x288 with 1 Axes>"
      ]
     },
     "metadata": {
      "needs_background": "light"
     },
     "output_type": "display_data"
    }
   ],
   "source": [
    "lgb.plot_metric(model2)"
   ]
  },
  {
   "cell_type": "code",
   "execution_count": 49,
   "metadata": {},
   "outputs": [
    {
     "data": {
      "text/plain": [
       "<sklearn.metrics._plot.confusion_matrix.ConfusionMatrixDisplay at 0x1b1f3c19190>"
      ]
     },
     "execution_count": 49,
     "metadata": {},
     "output_type": "execute_result"
    },
    {
     "data": {
      "image/png": "[encoded data removed]",
      "text/plain": [
       "<Figure size 432x288 with 2 Axes>"
      ]
     },
     "metadata": {
      "needs_background": "light"
     },
     "output_type": "display_data"
    }
   ],
   "source": [
    "metrics.plot_confusion_matrix(model,X_test,y_test,cmap='Blues')"
   ]
  },
  {
   "cell_type": "code",
   "execution_count": 51,
   "metadata": {},
   "outputs": [
    {
     "data": {
      "text/plain": [
       "<lightgbm.basic.Booster at 0x1b1f0756b80>"
      ]
     },
     "execution_count": 51,
     "metadata": {},
     "output_type": "execute_result"
    }
   ],
   "source": [
    "model2.booster_.save_model('200iteration.txt')"
   ]
  },
  {
   "cell_type": "code",
   "execution_count": 52,
   "metadata": {},
   "outputs": [],
   "source": [
    "bst = lgb.Booster(model_file='200iteration.txt')"
   ]
  },
  {
   "cell_type": "code",
   "execution_count": 61,
   "metadata": {},
   "outputs": [],
   "source": [
    "y_pred=bst.predict(X_test)"
   ]
  },
  {
   "cell_type": "code",
   "execution_count": 73,
   "metadata": {},
   "outputs": [
    {
     "data": {
      "text/plain": [
       "(array([692.,  70.,  35.,  20.,  13.,  12.,   5.,  11.,   9.,   9.,   4.,\n",
       "          4.,   3.,   6.,   1.,   2.,   3.,   4.,   5.,   3.,   4.,   3.,\n",
       "          3.,   4.,   2.,   2.,   3.,   3.,   5.,   3.,   3.,   4.,   2.,\n",
       "          0.,   2.,   1.,   3.,   1.,   2.,   3.,   1.,   0.,   1.,   2.,\n",
       "          1.,   4.,   1.,   3.,   4.,   1.,   2.,   0.,   2.,   2.,   1.,\n",
       "          1.,   2.,   3.,   3.,   4.,   1.,   0.,   3.,   2.,   2.,   4.,\n",
       "          3.,   2.,   0.,   3.,   5.,   2.,   5.,   3.,   2.,   3.,   3.,\n",
       "          2.,   4.,   0.,   3.,   5.,   2.,   4.,   7.,   4.,   5.,   3.,\n",
       "          3.,   6.,  10.,  14.,   6.,  16.,  11.,  20.,  40.,  62., 476.]),\n",
       " array([0.        , 0.01010101, 0.02020202, 0.03030303, 0.04040404,\n",
       "        0.05050505, 0.06060606, 0.07070707, 0.08080808, 0.09090909,\n",
       "        0.1010101 , 0.11111111, 0.12121212, 0.13131313, 0.14141414,\n",
       "        0.15151515, 0.16161616, 0.17171717, 0.18181818, 0.19191919,\n",
       "        0.2020202 , 0.21212121, 0.22222222, 0.23232323, 0.24242424,\n",
       "        0.25252525, 0.26262626, 0.27272727, 0.28282828, 0.29292929,\n",
       "        0.3030303 , 0.31313131, 0.32323232, 0.33333333, 0.34343434,\n",
       "        0.35353535, 0.36363636, 0.37373737, 0.38383838, 0.39393939,\n",
       "        0.4040404 , 0.41414141, 0.42424242, 0.43434343, 0.44444444,\n",
       "        0.45454545, 0.46464646, 0.47474747, 0.48484848, 0.49494949,\n",
       "        0.50505051, 0.51515152, 0.52525253, 0.53535354, 0.54545455,\n",
       "        0.55555556, 0.56565657, 0.57575758, 0.58585859, 0.5959596 ,\n",
       "        0.60606061, 0.61616162, 0.62626263, 0.63636364, 0.64646465,\n",
       "        0.65656566, 0.66666667, 0.67676768, 0.68686869, 0.6969697 ,\n",
       "        0.70707071, 0.71717172, 0.72727273, 0.73737374, 0.74747475,\n",
       "        0.75757576, 0.76767677, 0.77777778, 0.78787879, 0.7979798 ,\n",
       "        0.80808081, 0.81818182, 0.82828283, 0.83838384, 0.84848485,\n",
       "        0.85858586, 0.86868687, 0.87878788, 0.88888889, 0.8989899 ,\n",
       "        0.90909091, 0.91919192, 0.92929293, 0.93939394, 0.94949495,\n",
       "        0.95959596, 0.96969697, 0.97979798, 0.98989899, 1.        ]),\n",
       " <BarContainer object of 99 artists>)"
      ]
     },
     "execution_count": 73,
     "metadata": {},
     "output_type": "execute_result"
    },
    {
     "data": {
      "image/png": "[encoded data removed]",
      "text/plain": [
       "<Figure size 432x288 with 1 Axes>"
      ]
     },
     "metadata": {
      "needs_background": "light"
     },
     "output_type": "display_data"
    }
   ],
   "source": [
    "plt.hist(y_pred,np.linspace(0.0,1.0,100))"
   ]
  },
  {
   "cell_type": "code",
   "execution_count": null,
   "metadata": {},
   "outputs": [],
   "source": []
  }
 ],
 "metadata": {
  "kernelspec": {
   "display_name": "Python 3 (ipykernel)",
   "language": "python",
   "name": "python3"
  },
  "language_info": {
   "codemirror_mode": {
    "name": "ipython",
    "version": 3
   },
   "file_extension": ".py",
   "mimetype": "text/x-python",
   "name": "python",
   "nbconvert_exporter": "python",
   "pygments_lexer": "ipython3",
   "version": "3.9.7"
  }
 },
 "nbformat": 4,
 "nbformat_minor": 4
}
